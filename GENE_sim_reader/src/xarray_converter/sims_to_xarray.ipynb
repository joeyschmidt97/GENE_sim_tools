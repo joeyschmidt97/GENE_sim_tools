{
 "cells": [
  {
   "cell_type": "code",
   "execution_count": 1,
   "metadata": {},
   "outputs": [],
   "source": [
    "import os\n",
    "\n",
    "from GENE_sim_tools.GENE_sim_reader.src.dict_simulation_data import sim_filepath_to_df\n",
    "\n",
    "from GENE_sim_tools.GENE_sim_reader.src.xarray_converter.xarray_field import flatten_sim_arrays"
   ]
  },
  {
   "cell_type": "code",
   "execution_count": 2,
   "metadata": {},
   "outputs": [
    {
     "ename": "IndexError",
     "evalue": "too many indices for array: array is 2-dimensional, but 3 were indexed",
     "output_type": "error",
     "traceback": [
      "\u001b[0;31m---------------------------------------------------------------------------\u001b[0m",
      "\u001b[0;31mIndexError\u001b[0m                                Traceback (most recent call last)",
      "Cell \u001b[0;32mIn[2], line 6\u001b[0m\n\u001b[1;32m      3\u001b[0m criteria \u001b[38;5;241m=\u001b[39m [\u001b[38;5;124m'\u001b[39m\u001b[38;5;124mfield_phi\u001b[39m\u001b[38;5;124m'\u001b[39m, \u001b[38;5;124m'\u001b[39m\u001b[38;5;124mfield_bpar\u001b[39m\u001b[38;5;124m'\u001b[39m, \u001b[38;5;124m'\u001b[39m\u001b[38;5;124mfield_apar\u001b[39m\u001b[38;5;124m'\u001b[39m, \u001b[38;5;124m'\u001b[39m\u001b[38;5;124mtime==last\u001b[39m\u001b[38;5;124m'\u001b[39m]\n\u001b[1;32m      4\u001b[0m sim_df \u001b[38;5;241m=\u001b[39m sim_filepath_to_df(filepath, criteria_list\u001b[38;5;241m=\u001b[39mcriteria, load_spec\u001b[38;5;241m=\u001b[39m\u001b[38;5;124m'\u001b[39m\u001b[38;5;124mall\u001b[39m\u001b[38;5;124m'\u001b[39m)\n\u001b[0;32m----> 6\u001b[0m sim_df \u001b[38;5;241m=\u001b[39m flatten_sim_arrays(sim_df)\n",
      "File \u001b[0;32m~/tools/GENE_sim_tools/GENE_sim_reader/src/xarray_converter/xarray_field.py:29\u001b[0m, in \u001b[0;36mflatten_sim_arrays\u001b[0;34m(input_sim_df)\u001b[0m\n\u001b[1;32m     27\u001b[0m \u001b[38;5;28;01mfor\u001b[39;00m index, row \u001b[38;5;129;01min\u001b[39;00m sim_df\u001b[38;5;241m.\u001b[39miterrows():\n\u001b[1;32m     28\u001b[0m     \u001b[38;5;28;01mif\u001b[39;00m \u001b[38;5;28misinstance\u001b[39m(row[column], np\u001b[38;5;241m.\u001b[39mndarray):\n\u001b[0;32m---> 29\u001b[0m         flat_array, zgrid \u001b[38;5;241m=\u001b[39m data_array_flattened(row, column)\n\u001b[1;32m     30\u001b[0m         flat_arrays\u001b[38;5;241m.\u001b[39mappend(flat_array)\n\u001b[1;32m     31\u001b[0m         zgrids\u001b[38;5;241m.\u001b[39mappend(zgrid)\n",
      "File \u001b[0;32m~/tools/GENE_sim_tools/GENE_sim_reader/src/xarray_converter/xarray_field.py:66\u001b[0m, in \u001b[0;36mdata_array_flattened\u001b[0;34m(sim_df, array_name, time_ind)\u001b[0m\n\u001b[1;32m     63\u001b[0m lower_end \u001b[38;5;241m=\u001b[39m (i\u001b[38;5;241m+\u001b[39mhalf_nx_int)\u001b[38;5;241m*\u001b[39mnz\n\u001b[1;32m     64\u001b[0m upper_end \u001b[38;5;241m=\u001b[39m (i\u001b[38;5;241m+\u001b[39mhalf_nx_int\u001b[38;5;241m+\u001b[39m\u001b[38;5;241m1\u001b[39m)\u001b[38;5;241m*\u001b[39mnz\n\u001b[0;32m---> 66\u001b[0m flattened_array[lower_end:upper_end] \u001b[38;5;241m=\u001b[39m data_array[:,\u001b[38;5;241m0\u001b[39m,i]\n\u001b[1;32m     68\u001b[0m lower_end_neg \u001b[38;5;241m=\u001b[39m (half_nx_int\u001b[38;5;241m-\u001b[39mi\u001b[38;5;241m-\u001b[39m\u001b[38;5;241m1\u001b[39m)\u001b[38;5;241m*\u001b[39mnz\n\u001b[1;32m     69\u001b[0m upper_end_neg \u001b[38;5;241m=\u001b[39m (half_nx_int\u001b[38;5;241m-\u001b[39mi)\u001b[38;5;241m*\u001b[39mnz\n",
      "\u001b[0;31mIndexError\u001b[0m: too many indices for array: array is 2-dimensional, but 3 were indexed"
     ]
    }
   ],
   "source": [
    "filepath = '/pscratch/sd/j/joeschm/NSXTU_discharges/X_TEST'\n",
    "\n",
    "criteria = ['field_phi', 'field_bpar', 'field_apar', 'time==last']\n",
    "sim_df = sim_filepath_to_df(filepath, criteria_list=criteria, load_spec='all')\n",
    "\n",
    "sim_df = flatten_sim_arrays(sim_df)\n",
    "\n",
    "\n",
    "# param_paths = find_buried_filetypes(filepath, 'parameters')\n",
    "# assert (len(sim_list) == len(param_paths))\n",
    "\n",
    "\n",
    "# Check convergence of simulations\n",
    "\n",
    "# conv = 0\n",
    "# nonconv = 0\n",
    "\n",
    "# for sim in sim_list:\n",
    "\n",
    "#     print(sim.keys())\n",
    "#     # sim_key_list = ['directory', 'suffix', 'status', 'simulation_filepaths', 'key_list', 'parameters_dict']\n",
    "#     # # assert list(sim.keys()) == sim_key_list\n",
    "\n",
    "#     # print(sim['status'])\n",
    "#     # if sim['status'] == 'CONVERGED':\n",
    "#     #     conv += 1\n",
    "#     # elif sim['status'] == 'NOT_CONVERGED':\n",
    "#     #     nonconv += 1\n",
    "\n",
    "# print('')\n",
    "# print('CONVERGED:', conv)\n",
    "# print('NOT_CONVERGED', nonconv)\n",
    "\n"
   ]
  },
  {
   "cell_type": "code",
   "execution_count": null,
   "metadata": {},
   "outputs": [
    {
     "data": {
      "text/plain": [
       "0     [(1.0792545556278058e-05-3.735139908650809e-05...\n",
       "1     [(1.0792545556278058e-05-3.735139908650809e-05...\n",
       "2     [(1.0792545556278058e-05-3.735139908650809e-05...\n",
       "3     [(1.0792545556278058e-05-3.735139908650809e-05...\n",
       "4     [(1.0792545556278058e-05-3.735139908650809e-05...\n",
       "5     [(1.0792545556278058e-05-3.735139908650809e-05...\n",
       "6     [(1.0792545556278058e-05-3.735139908650809e-05...\n",
       "7     [(1.0792545556278058e-05-3.735139908650809e-05...\n",
       "8     [(1.0792545556278058e-05-3.735139908650809e-05...\n",
       "9     [(1.0792545556278058e-05-3.735139908650809e-05...\n",
       "10    [(1.0792545556278058e-05-3.735139908650809e-05...\n",
       "11    [(1.0792545556278058e-05-3.735139908650809e-05...\n",
       "12    [(1.0792545556278058e-05-3.735139908650809e-05...\n",
       "13    [(1.0792545556278058e-05-3.735139908650809e-05...\n",
       "14    [(1.0792545556278058e-05-3.735139908650809e-05...\n",
       "15    [(1.0792545556278058e-05-3.735139908650809e-05...\n",
       "16    [(1.0792545556278058e-05-3.735139908650809e-05...\n",
       "17    [(1.0792545556278058e-05-3.735139908650809e-05...\n",
       "18    [(1.0792545556278058e-05-3.735139908650809e-05...\n",
       "19    [(1.0792545556278058e-05-3.735139908650809e-05...\n",
       "20    [(1.0792545556278058e-05-3.735139908650809e-05...\n",
       "21    [(1.0792545556278058e-05-3.735139908650809e-05...\n",
       "22    [(1.0792545556278058e-05-3.735139908650809e-05...\n",
       "Name: field_phi, dtype: object"
      ]
     },
     "execution_count": 3,
     "metadata": {},
     "output_type": "execute_result"
    }
   ],
   "source": [
    "sim_df['field_phi']"
   ]
  },
  {
   "cell_type": "code",
   "execution_count": null,
   "metadata": {},
   "outputs": [],
   "source": []
  }
 ],
 "metadata": {
  "kernelspec": {
   "display_name": "jupyter_env",
   "language": "python",
   "name": "python3"
  },
  "language_info": {
   "codemirror_mode": {
    "name": "ipython",
    "version": 3
   },
   "file_extension": ".py",
   "mimetype": "text/x-python",
   "name": "python",
   "nbconvert_exporter": "python",
   "pygments_lexer": "ipython3",
   "version": "3.11.4"
  }
 },
 "nbformat": 4,
 "nbformat_minor": 2
}
