{
 "cells": [
  {
   "cell_type": "code",
   "execution_count": 1,
   "metadata": {},
   "outputs": [],
   "source": [
    "import os\n",
    "from GENE_sim_tools.GENE_sim_reader.src.sims_to_xarray import filepath_to_sim_xarray"
   ]
  },
  {
   "cell_type": "markdown",
   "metadata": {},
   "source": [
    "# Test paths"
   ]
  },
  {
   "cell_type": "code",
   "execution_count": 2,
   "metadata": {},
   "outputs": [],
   "source": [
    "test_parent_dir = '/pscratch/sd/j/joeschm/NSXTU_discharges/X_TEST'\n",
    "\n",
    "test_scanfile_dirs = []\n",
    "for paths in os.listdir(test_parent_dir):\n",
    "    if paths.startswith('scanfiles'):\n",
    "        test_scanfile_dirs.append(os.path.join(test_parent_dir, paths))\n",
    "\n",
    "# print(test_scanfile_dirs)\n",
    "\n",
    "test_sim_dirs = []\n",
    "for paths in os.listdir(test_parent_dir):\n",
    "    if paths.startswith('TEST_3spec'):\n",
    "        test_sim_dirs.append(os.path.join(test_parent_dir, paths))\n",
    "\n",
    "# print(test_sim_dirs)\n",
    "\n",
    "test_param_paths = []\n",
    "for files in os.listdir(test_scanfile_dirs[0]):\n",
    "    if files.startswith('parameters_'):\n",
    "        test_param_paths.append(os.path.join(test_scanfile_dirs[0], files))\n",
    "\n",
    "for files in os.listdir(test_sim_dirs[0]):\n",
    "    if files.startswith('parameters'):\n",
    "        test_param_paths.append(os.path.join(test_sim_dirs[0], files))\n",
    "\n",
    "# print(test_param_paths)\n",
    "\n",
    "all_test_paths = [test_parent_dir] + test_scanfile_dirs + test_sim_dirs + test_param_paths"
   ]
  },
  {
   "cell_type": "markdown",
   "metadata": {},
   "source": [
    "# Functions tests"
   ]
  },
  {
   "cell_type": "code",
   "execution_count": 3,
   "metadata": {},
   "outputs": [
    {
     "name": "stdout",
     "output_type": "stream",
     "text": [
      "1185\n",
      "1173\n",
      "1183\n",
      "4755\n",
      "4756\n",
      "1352\n",
      "13858\n",
      "4055\n",
      "884\n",
      "2367\n",
      "5443\n",
      "7821\n",
      "2779\n",
      "1505\n",
      "1395\n",
      "1352\n",
      "1421\n"
     ]
    }
   ],
   "source": [
    "\n",
    "das = filepath_to_sim_xarray(test_scanfile_dirs)"
   ]
  },
  {
   "cell_type": "code",
   "execution_count": 13,
   "metadata": {},
   "outputs": [
    {
     "data": {
      "text/plain": [
       "1"
      ]
     },
     "execution_count": 13,
     "metadata": {},
     "output_type": "execute_result"
    }
   ],
   "source": [
    "# 'Pi_EM3', 'time', 'field_phi', 'zgrid', 'field_apar', 'field_bpar']\n",
    "\n",
    "len(das[0]['field_apar'][0])"
   ]
  },
  {
   "cell_type": "code",
   "execution_count": 5,
   "metadata": {},
   "outputs": [
    {
     "name": "stdout",
     "output_type": "stream",
     "text": [
      "nan\n",
      "12.923160956480107\n",
      "nan\n",
      "nan\n",
      "12.923\n",
      "nan\n",
      "0.154\n",
      "0.171\n",
      "0.05\n",
      "-0.021\n",
      "0.0\n",
      "0.557\n",
      "3.026\n",
      "7.004\n",
      "12.923\n",
      "17.245\n"
     ]
    },
    {
     "ename": "IndexError",
     "evalue": "list index out of range",
     "output_type": "error",
     "traceback": [
      "\u001b[0;31m---------------------------------------------------------------------------\u001b[0m",
      "\u001b[0;31mIndexError\u001b[0m                                Traceback (most recent call last)",
      "Cell \u001b[0;32mIn[5], line 3\u001b[0m\n\u001b[1;32m      1\u001b[0m \u001b[38;5;28;01mfor\u001b[39;00m i \u001b[38;5;129;01min\u001b[39;00m \u001b[38;5;28mrange\u001b[39m(\u001b[38;5;241m1\u001b[39m,\u001b[38;5;241m20\u001b[39m):\n\u001b[0;32m----> 3\u001b[0m     \u001b[38;5;28mprint\u001b[39m(das[i][\u001b[38;5;124m'\u001b[39m\u001b[38;5;124mgamma\u001b[39m\u001b[38;5;124m'\u001b[39m])\n",
      "\u001b[0;31mIndexError\u001b[0m: list index out of range"
     ]
    }
   ],
   "source": [
    "for i in range(1,20):\n",
    "\n",
    "    print(das[i]['gamma'])"
   ]
  },
  {
   "cell_type": "code",
   "execution_count": null,
   "metadata": {},
   "outputs": [],
   "source": []
  }
 ],
 "metadata": {
  "kernelspec": {
   "display_name": "NERSC Python",
   "language": "python",
   "name": "python3"
  },
  "language_info": {
   "codemirror_mode": {
    "name": "ipython",
    "version": 3
   },
   "file_extension": ".py",
   "mimetype": "text/x-python",
   "name": "python",
   "nbconvert_exporter": "python",
   "pygments_lexer": "ipython3",
   "version": "3.11.7"
  }
 },
 "nbformat": 4,
 "nbformat_minor": 4
}
