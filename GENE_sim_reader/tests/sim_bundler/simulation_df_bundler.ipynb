{
 "cells": [
  {
   "cell_type": "code",
   "execution_count": null,
   "metadata": {},
   "outputs": [],
   "source": [
    "import os\n",
    "\n",
    "import pandas as pd\n",
    "\n",
    "from GENE_sim_tools.GENE_sim_reader.src.dict_simulation_data import filepath_to_simulation_dict_list, sim_filepath_to_df\n",
    "from GENE_sim_tools.GENE_sim_reader.src.utils.file_functions import string_to_list\n"
   ]
  },
  {
   "cell_type": "code",
   "execution_count": null,
   "metadata": {},
   "outputs": [],
   "source": [
    "def simulation_bundler(input_sim_list:list, input_group_by:list, input_bundle_outputs:list=['gamma', 'omega']):\n",
    "\n",
    "    # Convert stringss to list if necessary\n",
    "    group_by = string_to_list(input_group_by)\n",
    "    bundle_outputs = string_to_list(input_bundle_outputs)\n",
    "\n",
    "    # Check if the input is a naked string or dataframe object and convert to list\n",
    "    if isinstance(input_sim_list, str) or isinstance(input_sim_list, pd.DataFrame):\n",
    "        input_sim_list = [input_sim_list]\n",
    "\n",
    "    # Convert all objects into simulation dataframes (if they are not already)\n",
    "    sim_df_list = []\n",
    "    for ind, sim_obj in enumerate(input_sim_list):\n",
    "\n",
    "        if isinstance(sim_obj, str):\n",
    "            sim_df = sim_filepath_to_df(sim_obj)\n",
    "            sim_df_list.append(sim_obj)\n",
    "        elif isinstance(input_sim_list, pd.DataFrame):\n",
    "            sim_df_list.append(sim_df)\n",
    "        else:\n",
    "            raise ValueError(f'Please ensure the object in the {ind} place of the input_sim_list is either a string or pandas Dataframe.')\n",
    "\n",
    "\n",
    "    # Combine all dataframes\n",
    "    combined_df = pd.concat(sim_df_list, ignore_index=True)\n",
    "\n",
    "    # Group by specified columns and bundle output columns\n",
    "    def bundle(group):\n",
    "        return group.apply(lambda x: '; '.join(x.astype(str)), axis=0)\n",
    "\n",
    "    bundled_df = combined_df.groupby(group_by).agg({col: bundle for col in bundle_outputs}).reset_index()\n",
    "\n",
    "    return bundled_df\n",
    "\n",
    "\n",
    "    # Combine all dataframes in sim_df_list\n",
    "        \n",
    "    # Group rows by group_by list\n",
    "        \n",
    "    # Collect and bundle values in bundle_outputs columns \n"
   ]
  },
  {
   "cell_type": "code",
   "execution_count": null,
   "metadata": {},
   "outputs": [],
   "source": []
  }
 ],
 "metadata": {
  "language_info": {
   "name": "python"
  }
 },
 "nbformat": 4,
 "nbformat_minor": 2
}
