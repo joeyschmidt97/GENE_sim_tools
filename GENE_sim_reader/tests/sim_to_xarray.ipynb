{
 "cells": [
  {
   "cell_type": "code",
   "execution_count": 1,
   "metadata": {},
   "outputs": [],
   "source": [
    "import os\n",
    "from GENE_sim_tools.GENE_sim_reader.src.sims_to_xarray import filepath_to_sim_xarray"
   ]
  },
  {
   "cell_type": "markdown",
   "metadata": {},
   "source": [
    "# Test paths"
   ]
  },
  {
   "cell_type": "code",
   "execution_count": 2,
   "metadata": {},
   "outputs": [],
   "source": [
    "test_parent_dir = '/pscratch/sd/j/joeschm/NSXTU_discharges/X_TEST'\n",
    "\n",
    "test_scanfile_dirs = []\n",
    "for paths in os.listdir(test_parent_dir):\n",
    "    if paths.startswith('scanfiles'):\n",
    "        test_scanfile_dirs.append(os.path.join(test_parent_dir, paths))\n",
    "\n",
    "# print(test_scanfile_dirs)\n",
    "\n",
    "test_sim_dirs = []\n",
    "for paths in os.listdir(test_parent_dir):\n",
    "    if paths.startswith('TEST_3spec'):\n",
    "        test_sim_dirs.append(os.path.join(test_parent_dir, paths))\n",
    "\n",
    "# print(test_sim_dirs)\n",
    "\n",
    "test_param_paths = []\n",
    "for files in os.listdir(test_scanfile_dirs[0]):\n",
    "    if files.startswith('parameters_'):\n",
    "        test_param_paths.append(os.path.join(test_scanfile_dirs[0], files))\n",
    "\n",
    "for files in os.listdir(test_sim_dirs[0]):\n",
    "    if files.startswith('parameters'):\n",
    "        test_param_paths.append(os.path.join(test_sim_dirs[0], files))\n",
    "\n",
    "# print(test_param_paths)\n",
    "\n",
    "all_test_paths = [test_parent_dir] + test_scanfile_dirs + test_sim_dirs + test_param_paths"
   ]
  },
  {
   "cell_type": "markdown",
   "metadata": {},
   "source": [
    "# Functions tests"
   ]
  },
  {
   "cell_type": "code",
   "execution_count": 3,
   "metadata": {},
   "outputs": [],
   "source": [
    "\n",
    "das = filepath_to_sim_xarray(all_test_paths)"
   ]
  },
  {
   "cell_type": "code",
   "execution_count": 10,
   "metadata": {},
   "outputs": [
    {
     "name": "stdout",
     "output_type": "stream",
     "text": [
      "nan\n",
      "nan\n",
      "nan\n",
      "nan\n",
      "12.923\n",
      "12.923\n",
      "0.0\n",
      "0.0\n",
      "0.0\n",
      "nan\n",
      "nan\n",
      "nan\n",
      "nan\n",
      "12.923160956480107\n",
      "12.923160956480107\n",
      "nan\n",
      "nan\n",
      "nan\n",
      "nan\n"
     ]
    }
   ],
   "source": [
    "for i in range(1,20):\n",
    "\n",
    "    print(das[i]['gamma'])"
   ]
  },
  {
   "cell_type": "code",
   "execution_count": null,
   "metadata": {},
   "outputs": [],
   "source": []
  }
 ],
 "metadata": {
  "kernelspec": {
   "display_name": "jupyter_env",
   "language": "python",
   "name": "python3"
  },
  "language_info": {
   "codemirror_mode": {
    "name": "ipython",
    "version": 3
   },
   "file_extension": ".py",
   "mimetype": "text/x-python",
   "name": "python",
   "nbconvert_exporter": "python",
   "pygments_lexer": "ipython3",
   "version": "3.11.4"
  }
 },
 "nbformat": 4,
 "nbformat_minor": 2
}
