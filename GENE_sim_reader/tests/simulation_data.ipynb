{
 "cells": [
  {
   "cell_type": "code",
   "execution_count": 1,
   "metadata": {},
   "outputs": [],
   "source": [
    "import os\n",
    "\n",
    "from GENE_sim_tools.GENE_sim_reader.src.dict_simulation_data import filepath_to_simulation_dict_list, sim_filepath_to_df\n",
    "from GENE_sim_tools.GENE_sim_reader.src.utils.find_buried_filetypes import find_buried_filetypes"
   ]
  },
  {
   "cell_type": "code",
   "execution_count": 4,
   "metadata": {},
   "outputs": [
    {
     "name": "stdout",
     "output_type": "stream",
     "text": [
      "dict_keys(['directory', 'suffix', 'status', 'simulation_filepaths', 'key_list', 'species_info', 'parameters_dict'])\n",
      "dict_keys(['directory', 'suffix', 'status', 'simulation_filepaths', 'key_list', 'species_info', 'parameters_dict'])\n",
      "dict_keys(['directory', 'suffix', 'status', 'simulation_filepaths', 'key_list', 'species_info', 'parameters_dict'])\n",
      "dict_keys(['directory', 'suffix', 'status', 'simulation_filepaths', 'key_list', 'species_info', 'parameters_dict'])\n",
      "dict_keys(['directory', 'suffix', 'status', 'simulation_filepaths', 'key_list', 'species_info', 'parameters_dict'])\n",
      "dict_keys(['directory', 'suffix', 'status', 'simulation_filepaths', 'key_list', 'species_info', 'parameters_dict'])\n",
      "dict_keys(['directory', 'suffix', 'status', 'simulation_filepaths', 'key_list', 'species_info', 'parameters_dict'])\n",
      "dict_keys(['directory', 'suffix', 'status', 'simulation_filepaths', 'key_list', 'species_info', 'parameters_dict'])\n",
      "dict_keys(['directory', 'suffix', 'status', 'simulation_filepaths', 'key_list', 'species_info', 'parameters_dict'])\n",
      "dict_keys(['directory', 'suffix', 'status', 'simulation_filepaths', 'key_list', 'species_info', 'parameters_dict'])\n",
      "dict_keys(['directory', 'suffix', 'status', 'simulation_filepaths', 'key_list', 'species_info', 'parameters_dict'])\n",
      "dict_keys(['directory', 'suffix', 'status', 'simulation_filepaths', 'key_list', 'species_info', 'parameters_dict'])\n",
      "dict_keys(['directory', 'suffix', 'status', 'simulation_filepaths', 'key_list', 'species_info', 'parameters_dict'])\n",
      "dict_keys(['directory', 'suffix', 'status', 'simulation_filepaths', 'key_list', 'species_info', 'parameters_dict'])\n",
      "dict_keys(['directory', 'suffix', 'status', 'simulation_filepaths', 'key_list', 'species_info', 'parameters_dict'])\n",
      "dict_keys(['directory', 'suffix', 'status', 'simulation_filepaths', 'key_list', 'species_info', 'parameters_dict'])\n",
      "dict_keys(['directory', 'suffix', 'status', 'simulation_filepaths', 'key_list', 'species_info', 'parameters_dict'])\n",
      "dict_keys(['directory', 'suffix', 'status', 'simulation_filepaths', 'key_list', 'species_info', 'parameters_dict'])\n",
      "dict_keys(['directory', 'suffix', 'status', 'simulation_filepaths', 'key_list', 'species_info', 'parameters_dict'])\n",
      "dict_keys(['directory', 'suffix', 'status', 'simulation_filepaths', 'key_list', 'species_info', 'parameters_dict'])\n",
      "dict_keys(['directory', 'suffix', 'status', 'simulation_filepaths', 'key_list', 'species_info', 'parameters_dict'])\n",
      "dict_keys(['directory', 'suffix', 'status', 'simulation_filepaths', 'key_list', 'species_info', 'parameters_dict'])\n",
      "dict_keys(['directory', 'suffix', 'status', 'simulation_filepaths', 'key_list', 'species_info', 'parameters_dict'])\n",
      "\n",
      "CONVERGED: 0\n",
      "NOT_CONVERGED 0\n"
     ]
    }
   ],
   "source": [
    "filepath = '/pscratch/sd/j/joeschm/NSXTU_discharges/X_TEST'\n",
    "\n",
    "sim_list, _ = filepath_to_simulation_dict_list(filepath, [], 'e')\n",
    "\n",
    "param_paths = find_buried_filetypes(filepath, 'parameters')\n",
    "assert (len(sim_list) == len(param_paths))\n",
    "\n",
    "\n",
    "# Check convergence of simulations\n",
    "\n",
    "conv = 0\n",
    "nonconv = 0\n",
    "\n",
    "for sim in sim_list:\n",
    "\n",
    "    print(sim.keys())\n",
    "    # sim_key_list = ['directory', 'suffix', 'status', 'simulation_filepaths', 'key_list', 'parameters_dict']\n",
    "    # # assert list(sim.keys()) == sim_key_list\n",
    "\n",
    "    # print(sim['status'])\n",
    "    # if sim['status'] == 'CONVERGED':\n",
    "    #     conv += 1\n",
    "    # elif sim['status'] == 'NOT_CONVERGED':\n",
    "    #     nonconv += 1\n",
    "\n",
    "print('')\n",
    "print('CONVERGED:', conv)\n",
    "print('NOT_CONVERGED', nonconv)\n",
    "\n"
   ]
  },
  {
   "cell_type": "code",
   "execution_count": 3,
   "metadata": {},
   "outputs": [
    {
     "name": "stdout",
     "output_type": "stream",
     "text": [
      "16\n"
     ]
    },
    {
     "ename": "AssertionError",
     "evalue": "",
     "output_type": "error",
     "traceback": [
      "\u001b[0;31m---------------------------------------------------------------------------\u001b[0m",
      "\u001b[0;31mAssertionError\u001b[0m                            Traceback (most recent call last)",
      "Cell \u001b[0;32mIn[3], line 11\u001b[0m\n\u001b[1;32m      8\u001b[0m \u001b[38;5;28;01mfor\u001b[39;00m sim \u001b[38;5;129;01min\u001b[39;00m sim_list1:\n\u001b[1;32m     10\u001b[0m     sim_key_list \u001b[38;5;241m=\u001b[39m [\u001b[38;5;124m'\u001b[39m\u001b[38;5;124mdirectory\u001b[39m\u001b[38;5;124m'\u001b[39m, \u001b[38;5;124m'\u001b[39m\u001b[38;5;124msuffix\u001b[39m\u001b[38;5;124m'\u001b[39m, \u001b[38;5;124m'\u001b[39m\u001b[38;5;124mstatus\u001b[39m\u001b[38;5;124m'\u001b[39m, \u001b[38;5;124m'\u001b[39m\u001b[38;5;124msimulation_filepaths\u001b[39m\u001b[38;5;124m'\u001b[39m, \u001b[38;5;124m'\u001b[39m\u001b[38;5;124mkey_list\u001b[39m\u001b[38;5;124m'\u001b[39m, \u001b[38;5;124m'\u001b[39m\u001b[38;5;124mparameters_dict\u001b[39m\u001b[38;5;124m'\u001b[39m, \u001b[38;5;124m'\u001b[39m\u001b[38;5;124mnrg_dict\u001b[39m\u001b[38;5;124m'\u001b[39m]\n\u001b[0;32m---> 11\u001b[0m     \u001b[38;5;28;01massert\u001b[39;00m \u001b[38;5;28mlist\u001b[39m(sim\u001b[38;5;241m.\u001b[39mkeys()) \u001b[38;5;241m==\u001b[39m sim_key_list\n\u001b[1;32m     13\u001b[0m     \u001b[38;5;66;03m# check that all the time values match the given criteria\u001b[39;00m\n\u001b[1;32m     14\u001b[0m     \u001b[38;5;28;01massert\u001b[39;00m \u001b[38;5;28mall\u001b[39m(sim[\u001b[38;5;124m'\u001b[39m\u001b[38;5;124mnrg_dict\u001b[39m\u001b[38;5;124m'\u001b[39m][\u001b[38;5;124m'\u001b[39m\u001b[38;5;124mtime\u001b[39m\u001b[38;5;124m'\u001b[39m]) \u001b[38;5;241m<\u001b[39m \u001b[38;5;241m0.05\u001b[39m\n",
      "\u001b[0;31mAssertionError\u001b[0m: "
     ]
    }
   ],
   "source": [
    "filepath = '/pscratch/sd/j/joeschm/NSXTU_discharges/X_TEST'\n",
    "\n",
    "crit1 = ['status==CONVERGED', 'n_mag', 'time<0.05']\n",
    "sim_list1, crit_per_dict = filepath_to_simulation_dict_list(filepath, crit1, ['e', 'i'])\n",
    "\n",
    "print(len(sim_list1))\n",
    "\n",
    "for sim in sim_list1:\n",
    "\n",
    "    sim_key_list = ['directory', 'suffix', 'status', 'simulation_filepaths', 'key_list', 'parameters_dict', 'nrg_dict']\n",
    "    assert list(sim.keys()) == sim_key_list\n",
    "\n",
    "    # check that all the time values match the given criteria\n",
    "    assert all(sim['nrg_dict']['time']) < 0.05\n",
    "\n",
    "    assert 'n_mag1' in list(sim['nrg_dict'].keys())\n",
    "    assert 'n_mag2' in list(sim['nrg_dict'].keys())\n",
    "\n",
    "    # print(sim['nrg_dict']['n_mag1'])\n",
    "\n",
    "    print(sim['directory'])"
   ]
  },
  {
   "cell_type": "code",
   "execution_count": null,
   "metadata": {},
   "outputs": [
    {
     "ename": "AssertionError",
     "evalue": "",
     "output_type": "error",
     "traceback": [
      "\u001b[0;31m---------------------------------------------------------------------------\u001b[0m",
      "\u001b[0;31mAssertionError\u001b[0m                            Traceback (most recent call last)",
      "Cell \u001b[0;32mIn[4], line 9\u001b[0m\n\u001b[1;32m      7\u001b[0m \u001b[38;5;28;01mfor\u001b[39;00m sim \u001b[38;5;129;01min\u001b[39;00m sim_list2:\n\u001b[1;32m      8\u001b[0m     sim_key_list \u001b[38;5;241m=\u001b[39m [\u001b[38;5;124m'\u001b[39m\u001b[38;5;124mdirectory\u001b[39m\u001b[38;5;124m'\u001b[39m, \u001b[38;5;124m'\u001b[39m\u001b[38;5;124msuffix\u001b[39m\u001b[38;5;124m'\u001b[39m, \u001b[38;5;124m'\u001b[39m\u001b[38;5;124mstatus\u001b[39m\u001b[38;5;124m'\u001b[39m, \u001b[38;5;124m'\u001b[39m\u001b[38;5;124msimulation_filepaths\u001b[39m\u001b[38;5;124m'\u001b[39m, \u001b[38;5;124m'\u001b[39m\u001b[38;5;124mkey_list\u001b[39m\u001b[38;5;124m'\u001b[39m, \u001b[38;5;124m'\u001b[39m\u001b[38;5;124mparameters_dict\u001b[39m\u001b[38;5;124m'\u001b[39m, \u001b[38;5;124m'\u001b[39m\u001b[38;5;124mnrg_dict\u001b[39m\u001b[38;5;124m'\u001b[39m]\n\u001b[0;32m----> 9\u001b[0m     \u001b[38;5;28;01massert\u001b[39;00m \u001b[38;5;28mlist\u001b[39m(sim\u001b[38;5;241m.\u001b[39mkeys()) \u001b[38;5;241m==\u001b[39m sim_key_list\n\u001b[1;32m     11\u001b[0m     \u001b[38;5;66;03m# check that all the time and density values match the given criteria\u001b[39;00m\n\u001b[1;32m     12\u001b[0m     \u001b[38;5;28;01massert\u001b[39;00m \u001b[38;5;28mall\u001b[39m(sim[\u001b[38;5;124m'\u001b[39m\u001b[38;5;124mnrg_dict\u001b[39m\u001b[38;5;124m'\u001b[39m][\u001b[38;5;124m'\u001b[39m\u001b[38;5;124mtime\u001b[39m\u001b[38;5;124m'\u001b[39m] \u001b[38;5;241m<\u001b[39m \u001b[38;5;241m0.05\u001b[39m)\n",
      "\u001b[0;31mAssertionError\u001b[0m: "
     ]
    }
   ],
   "source": [
    "filepath = '/pscratch/sd/j/joeschm/NSXTU_discharges/X_TEST'\n",
    "\n",
    "crit2 = ['status==CONVERGED', 'n_mag>0.002', 'time<0.05']\n",
    "\n",
    "sim_list2, _ = filepath_to_simulation_dict_list(filepath, crit2, ['e', 'i'])\n",
    "\n",
    "for sim in sim_list2:\n",
    "    sim_key_list = ['directory', 'suffix', 'status', 'simulation_filepaths', 'key_list', 'parameters_dict', 'nrg_dict']\n",
    "    assert list(sim.keys()) == sim_key_list\n",
    "\n",
    "    # check that all the time and density values match the given criteria\n",
    "    assert all(sim['nrg_dict']['time'] < 0.05)\n",
    "    assert all(sim['nrg_dict']['n_mag1'] > 0.002)\n",
    "    assert all(sim['nrg_dict']['n_mag2'] > 0.002)\n",
    "\n",
    "    print(sim['directory'])\n",
    "\n",
    "\n"
   ]
  },
  {
   "cell_type": "code",
   "execution_count": null,
   "metadata": {},
   "outputs": [
    {
     "name": "stdout",
     "output_type": "stream",
     "text": [
      "11\n",
      "/pscratch/sd/j/joeschm/NSXTU_discharges/X_TEST/TEST_3spec_k100\n",
      "/pscratch/sd/j/joeschm/NSXTU_discharges/X_TEST/scanfiles0002\n",
      "/pscratch/sd/j/joeschm/NSXTU_discharges/X_TEST/scanfiles0003\n",
      "/pscratch/sd/j/joeschm/NSXTU_discharges/X_TEST/scanfiles0004\n",
      "/pscratch/sd/j/joeschm/NSXTU_discharges/X_TEST/scanfiles0004\n",
      "/pscratch/sd/j/joeschm/NSXTU_discharges/X_TEST/scanfiles0004\n",
      "/pscratch/sd/j/joeschm/NSXTU_discharges/X_TEST/scanfiles0005\n",
      "/pscratch/sd/j/joeschm/NSXTU_discharges/X_TEST/scanfiles0005\n",
      "/pscratch/sd/j/joeschm/NSXTU_discharges/X_TEST/scanfiles0005\n",
      "/pscratch/sd/j/joeschm/NSXTU_discharges/X_TEST/scanfiles0005\n",
      "/pscratch/sd/j/joeschm/NSXTU_discharges/X_TEST/scanfiles0005\n"
     ]
    }
   ],
   "source": [
    "filepath = '/pscratch/sd/j/joeschm/NSXTU_discharges/X_TEST'\n",
    "\n",
    "crit3 = ['time<0.05', 'gamma>0', 'Q_ES < 3e-2', 'Q_EM', 'Gamma_ES']\n",
    "\n",
    "sim_list3, _ = filepath_to_simulation_dict_list(filepath, crit3, ['e', 'i'])\n",
    "\n",
    "print(len(sim_list3))\n",
    "\n",
    "for sim in sim_list3:\n",
    "\n",
    "\n",
    "    sim_key_list = ['directory', 'suffix', 'status', 'simulation_filepaths', 'key_list', 'parameters_dict', 'omega_dict', 'nrg_dict']\n",
    "\n",
    "    # assert list(sim.keys()) == sim_key_list\n",
    "\n",
    "    # check that all the time and density values match the given criteria\n",
    "    assert all(sim['nrg_dict']['time'] < 0.05)\n",
    "    assert sim['omega_dict']['gamma'] > 0\n",
    "    assert all(sim['nrg_dict']['Q_ES1'] < 3e-2)\n",
    "    assert all(sim['nrg_dict']['Q_ES2'] < 3e-2)\n",
    "\n",
    "    print(sim['directory'])\n",
    "\n"
   ]
  },
  {
   "cell_type": "code",
   "execution_count": null,
   "metadata": {},
   "outputs": [
    {
     "name": "stdout",
     "output_type": "stream",
     "text": [
      "number of simulations fetched: 1 \n",
      "\n",
      "dict_keys(['directory', 'suffix', 'status', 'simulation_filepaths', 'key_list', 'species_info', 'parameters_dict', 'nrg_dict'])\n",
      "Q_ES1 [359.79]\n",
      "Q_EM1 [-13.626]\n",
      "Q_ES2 [185.64]\n",
      "Q_EM2 [33.435]\n",
      "Q_ES3 [49.465]\n",
      "Q_EM3 [-0.74485]\n",
      "time [334.86892]\n",
      "nrg dict keys: ['Q_ES1', 'Q_EM1', 'Q_ES2', 'Q_EM2', 'Q_ES3', 'Q_EM3', 'time', 'filepath', 'key_list'] \n",
      "\n"
     ]
    }
   ],
   "source": [
    "single_filepath = '/pscratch/sd/j/joeschm/NSXTU_discharges/129015/r_0.936008_OM_top/MTM_limit/kymin_0.1/scanfiles0000/parameters_0007'\n",
    "# scanfile_filepath = '/pscratch/sd/j/joeschm/NSXTU_discharges/129015/r_0.936008_OM_top/MTM_limit/kymin_0.1/scanfiles0000'\n",
    "\n",
    "# crit4 = ['status==CONVERGED','time==last', 'Q_ES', 'Q_EM', \"collision_op=='landau'\"]\n",
    "\n",
    "crit4 = ['status==CONVERGED','time==last', 'Q_ES', 'Q_EM', 'collision_op==landau']\n",
    "sim_list4, crit_list = filepath_to_simulation_dict_list(single_filepath, criteria_list=crit4)\n",
    "# sim_list4, crit_list = filepath_to_simulation_dict_list(scanfile_filepath, criteria_list=crit4)\n",
    "\n",
    "print('number of simulations fetched:', len(sim_list4), '\\n')\n",
    "\n",
    "for sim in sim_list4:\n",
    "\n",
    "    print(sim.keys())\n",
    "\n",
    "    for nrg_key in sim['nrg_dict'].keys():\n",
    "        if ('Q_ES' in nrg_key) or ('Q_EM' in nrg_key) or ('time'==nrg_key):\n",
    "\n",
    "            print(nrg_key, sim['nrg_dict'][nrg_key])\n",
    "            assert len(sim['nrg_dict'][nrg_key]) == 1\n",
    "\n",
    "    print('nrg dict keys:', list(sim['nrg_dict'].keys()), '\\n')\n"
   ]
  },
  {
   "cell_type": "code",
   "execution_count": null,
   "metadata": {},
   "outputs": [
    {
     "name": "stdout",
     "output_type": "stream",
     "text": [
      "<class 'numpy.float64'> \n",
      "\n",
      "0    1.042500e+03\n",
      "1    4.879100e+26\n",
      "2    3.597900e+02\n",
      "Name: Q_ES1, dtype: float64 \n",
      "\n",
      "0    245.20910\n",
      "1     96.63552\n",
      "2    334.86892\n",
      "Name: time, dtype: float64 \n",
      "\n"
     ]
    }
   ],
   "source": [
    "path1 = '/pscratch/sd/j/joeschm/NSXTU_discharges/129015/r_0.936008_OM_top/MTM_limit/kymin_0.1/scanfiles0000/parameters_0007'\n",
    "path2 = '/pscratch/sd/j/joeschm/NSXTU_discharges/129015/r_0.936008_OM_top/MTM_limit/kymin_0.1/scanfiles0000/parameters_0005'\n",
    "path3 = '/pscratch/sd/j/joeschm/NSXTU_discharges/129015/r_0.936008_OM_top/MTM_limit/kymin_0.1/scanfiles0000/parameters_0006'\n",
    "\n",
    "path_list = [path1, path2, path3]\n",
    "\n",
    "crit4 = ['status==CONVERGED', 'Q_ES', 'Q_EM', 'time==last']\n",
    "\n",
    "sim_df = sim_filepath_to_df(path_list, crit4)\n",
    "\n",
    "\n",
    "\n",
    "print(type(sim_df['Q_ES1'][0]), '\\n')\n",
    "print(sim_df['Q_ES1'], '\\n')\n",
    "print(sim_df['time'], '\\n')\n",
    "\n",
    "# print(len(sim_df['time'][0]), len(sim_df['time'][1]), len(sim_df['time'][2]))"
   ]
  },
  {
   "cell_type": "code",
   "execution_count": null,
   "metadata": {},
   "outputs": [
    {
     "name": "stdout",
     "output_type": "stream",
     "text": [
      "                                           directory suffix     status  \\\n",
      "0  /pscratch/sd/j/joeschm/NSXTU_discharges/129015...   0005  CONVERGED   \n",
      "1  /pscratch/sd/j/joeschm/NSXTU_discharges/129015...   0006  CONVERGED   \n",
      "2  /pscratch/sd/j/joeschm/NSXTU_discharges/129015...   0007  CONVERGED   \n",
      "\n",
      "                                simulation_filepaths  \\\n",
      "0  [/pscratch/sd/j/joeschm/NSXTU_discharges/12901...   \n",
      "1  [/pscratch/sd/j/joeschm/NSXTU_discharges/12901...   \n",
      "2  [/pscratch/sd/j/joeschm/NSXTU_discharges/12901...   \n",
      "\n",
      "                                            key_list  \\\n",
      "0  [time, n_mag, u_par_mag, T_par_mag, T_perp_mag...   \n",
      "1  [time, n_mag, u_par_mag, T_par_mag, T_perp_mag...   \n",
      "2  [time, n_mag, u_par_mag, T_par_mag, T_perp_mag...   \n",
      "\n",
      "                    species_info  n_procs_s  n_procs_v  n_procs_w  n_procs_x  \\\n",
      "0  (((i, 1), (e, 2), (c, 3)), 3)          1          2          4          1   \n",
      "1  (((i, 1), (e, 2), (c, 3)), 3)          1          2          4          1   \n",
      "2  (((i, 1), (e, 2), (c, 3)), 3)          1          2          4          1   \n",
      "\n",
      "   ...  mref  is_bsg                                           filepath  \\\n",
      "0  ...   2.0   False  /pscratch/sd/j/joeschm/NSXTU_discharges/129015...   \n",
      "1  ...   2.0   False  /pscratch/sd/j/joeschm/NSXTU_discharges/129015...   \n",
      "2  ...   2.0   False  /pscratch/sd/j/joeschm/NSXTU_discharges/129015...   \n",
      "\n",
      "          Q_ES1         Q_EM1         Q_ES2         Q_EM2         Q_ES3  \\\n",
      "0  1.042500e+03  4.786600e+01  4.476300e+03  3.630400e+02  1.327000e+01   \n",
      "1  4.879100e+26  2.002300e+25  2.004000e+27  1.259500e+26  2.001100e+25   \n",
      "2  3.597900e+02 -1.362600e+01  1.856400e+02  3.343500e+01  4.946500e+01   \n",
      "\n",
      "          Q_EM3       time  \n",
      "0  1.434400e+00  245.20910  \n",
      "1  5.937100e+23   96.63552  \n",
      "2 -7.448500e-01  334.86892  \n",
      "\n",
      "[3 rows x 128 columns]\n"
     ]
    }
   ],
   "source": [
    "print(sim_df)"
   ]
  },
  {
   "cell_type": "code",
   "execution_count": null,
   "metadata": {},
   "outputs": [],
   "source": []
  },
  {
   "cell_type": "markdown",
   "metadata": {},
   "source": [
    "# Field data test"
   ]
  },
  {
   "cell_type": "code",
   "execution_count": null,
   "metadata": {},
   "outputs": [],
   "source": [
    "filepath = '/pscratch/sd/j/joeschm/NSXTU_discharges/X_TEST'\n",
    "\n",
    "crit2 = ['status==CONVERGED', 'field_phi', 'field_bpar', 'time==last']\n",
    "\n",
    "sim_list2 = sim_filepath_to_df(filepath, crit2)\n",
    "\n"
   ]
  },
  {
   "cell_type": "code",
   "execution_count": null,
   "metadata": {},
   "outputs": [
    {
     "name": "stdout",
     "output_type": "stream",
     "text": [
      "0       0.905840\n",
      "1       2.307144\n",
      "2       1.487475\n",
      "3       0.990388\n",
      "4       0.792610\n",
      "5       0.905840\n",
      "6     158.527040\n",
      "7      34.452600\n",
      "8      85.441480\n",
      "9     175.808900\n",
      "10     50.758290\n",
      "11      6.169380\n",
      "12      2.001118\n",
      "13      1.334441\n",
      "14      0.905840\n",
      "15      0.731609\n",
      "Name: time, dtype: float64\n"
     ]
    }
   ],
   "source": [
    "print(sim_list2['time'])\n"
   ]
  },
  {
   "cell_type": "code",
   "execution_count": null,
   "metadata": {},
   "outputs": [],
   "source": []
  }
 ],
 "metadata": {
  "kernelspec": {
   "display_name": "jupyter_env",
   "language": "python",
   "name": "python3"
  },
  "language_info": {
   "codemirror_mode": {
    "name": "ipython",
    "version": 3
   },
   "file_extension": ".py",
   "mimetype": "text/x-python",
   "name": "python",
   "nbconvert_exporter": "python",
   "pygments_lexer": "ipython3",
   "version": "3.11.4"
  },
  "orig_nbformat": 4
 },
 "nbformat": 4,
 "nbformat_minor": 2
}
