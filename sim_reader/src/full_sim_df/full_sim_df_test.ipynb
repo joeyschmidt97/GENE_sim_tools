{
 "cells": [
  {
   "cell_type": "code",
   "execution_count": 1,
   "metadata": {},
   "outputs": [],
   "source": [
    "import os\n",
    "\n",
    "from GENE_sim_tools.GENE_sim_reader.src.full_sim_df.full_sim_df import converged_last_time_sim_df, sim_df_to_csv, load_csv_from_path"
   ]
  },
  {
   "cell_type": "code",
   "execution_count": 2,
   "metadata": {},
   "outputs": [
    {
     "ename": "KeyboardInterrupt",
     "evalue": "",
     "output_type": "error",
     "traceback": [
      "\u001b[0;31m---------------------------------------------------------------------------\u001b[0m",
      "\u001b[0;31mKeyboardInterrupt\u001b[0m                         Traceback (most recent call last)",
      "Cell \u001b[0;32mIn[2], line 3\u001b[0m\n\u001b[1;32m      1\u001b[0m filepath \u001b[38;5;241m=\u001b[39m \u001b[38;5;124m'\u001b[39m\u001b[38;5;124m/pscratch/sd/j/joeschm/NSXTU_discharges/X_TEST\u001b[39m\u001b[38;5;124m'\u001b[39m\n\u001b[0;32m----> 3\u001b[0m sim_df \u001b[38;5;241m=\u001b[39m converged_last_time_sim_df(filepath)\n",
      "File \u001b[0;32m~/tools/GENE_sim_tools/GENE_sim_reader/src/full_sim_df/full_sim_df.py:13\u001b[0m, in \u001b[0;36mconverged_last_time_sim_df\u001b[0;34m(input_path)\u001b[0m\n\u001b[1;32m     10\u001b[0m criteria \u001b[38;5;241m=\u001b[39m [\u001b[38;5;124m'\u001b[39m\u001b[38;5;124mstatus==CONVERGED\u001b[39m\u001b[38;5;124m'\u001b[39m, \u001b[38;5;124m'\u001b[39m\u001b[38;5;124mtime==last\u001b[39m\u001b[38;5;124m'\u001b[39m]\n\u001b[1;32m     11\u001b[0m criteria \u001b[38;5;241m=\u001b[39m criteria \u001b[38;5;241m+\u001b[39m omega_key_list \u001b[38;5;241m+\u001b[39m nrg_column_keys \u001b[38;5;241m+\u001b[39m field_column_keys\n\u001b[0;32m---> 13\u001b[0m sim_df \u001b[38;5;241m=\u001b[39m sim_filepath_to_df(input_path, criteria)\n\u001b[1;32m     15\u001b[0m \u001b[38;5;28;01mreturn\u001b[39;00m sim_df\n",
      "File \u001b[0;32m~/tools/GENE_sim_tools/GENE_sim_reader/src/dict_simulation_data.py:251\u001b[0m, in \u001b[0;36msim_filepath_to_df\u001b[0;34m(filepath_list, criteria_list, load_spec)\u001b[0m\n\u001b[1;32m    249\u001b[0m \u001b[38;5;28;01mdef\u001b[39;00m \u001b[38;5;21msim_filepath_to_df\u001b[39m(filepath_list, criteria_list\u001b[38;5;241m=\u001b[39m[], load_spec\u001b[38;5;241m=\u001b[39m\u001b[38;5;124m'\u001b[39m\u001b[38;5;124mall\u001b[39m\u001b[38;5;124m'\u001b[39m):\n\u001b[0;32m--> 251\u001b[0m     sim_dict_list, _ \u001b[38;5;241m=\u001b[39m filepath_to_simulation_dict_list(filepath_list, criteria_list, load_spec)\n\u001b[1;32m    252\u001b[0m     flat_sim_data_list \u001b[38;5;241m=\u001b[39m []\n\u001b[1;32m    254\u001b[0m     \u001b[38;5;28;01mfor\u001b[39;00m sim \u001b[38;5;129;01min\u001b[39;00m sim_dict_list:\n",
      "File \u001b[0;32m~/tools/GENE_sim_tools/GENE_sim_reader/src/dict_simulation_data.py:57\u001b[0m, in \u001b[0;36mfilepath_to_simulation_dict_list\u001b[0;34m(filepath_list, criteria_list, load_spec, debug)\u001b[0m\n\u001b[1;32m     52\u001b[0m \u001b[38;5;28;01melse\u001b[39;00m:\n\u001b[1;32m     53\u001b[0m     \u001b[38;5;66;03m# Process each 'parameters' file found\u001b[39;00m\n\u001b[1;32m     54\u001b[0m     \u001b[38;5;28;01mfor\u001b[39;00m parameter_filepath \u001b[38;5;129;01min\u001b[39;00m parameter_filepath_list:\n\u001b[1;32m     55\u001b[0m \n\u001b[1;32m     56\u001b[0m         \u001b[38;5;66;03m# Convert file paths to dictionaries containing simulation information\u001b[39;00m\n\u001b[0;32m---> 57\u001b[0m         simulation_dict, criteria_per_dict \u001b[38;5;241m=\u001b[39m create_sim_dict(parameter_filepath, criteria_list, load_spec)\n\u001b[1;32m     59\u001b[0m         \u001b[38;5;28;01mif\u001b[39;00m simulation_dict \u001b[38;5;241m==\u001b[39m \u001b[38;5;28;01mFalse\u001b[39;00m:\n\u001b[1;32m     60\u001b[0m             \u001b[38;5;28;01mcontinue\u001b[39;00m\n",
      "File \u001b[0;32m~/tools/GENE_sim_tools/GENE_sim_reader/src/dict_simulation_data.py:186\u001b[0m, in \u001b[0;36mcreate_sim_dict\u001b[0;34m(parameter_filepath, criteria_list, load_spec)\u001b[0m\n\u001b[1;32m    183\u001b[0m criteria_per_dict[\u001b[38;5;124m'\u001b[39m\u001b[38;5;124mfield\u001b[39m\u001b[38;5;124m'\u001b[39m] \u001b[38;5;241m=\u001b[39m remove_non_numerical_crit(criteria_per_dict[\u001b[38;5;124m'\u001b[39m\u001b[38;5;124mfield\u001b[39m\u001b[38;5;124m'\u001b[39m])\n\u001b[1;32m    185\u001b[0m field_filepath \u001b[38;5;241m=\u001b[39m switch_suffix_file(parameter_filepath, \u001b[38;5;124m'\u001b[39m\u001b[38;5;124mfield\u001b[39m\u001b[38;5;124m'\u001b[39m)\n\u001b[0;32m--> 186\u001b[0m field_dict \u001b[38;5;241m=\u001b[39m field_filepath_to_dict(field_filepath, time_criteria, field_quantities)\n\u001b[1;32m    188\u001b[0m \u001b[38;5;66;03m# nrg_dict = criteria_array_sifter(criteria_per_dict['nrg'], nrg_dict)\u001b[39;00m\n\u001b[1;32m    189\u001b[0m add_simulation \u001b[38;5;241m=\u001b[39m dict_criteria_check(criteria_per_dict[\u001b[38;5;124m'\u001b[39m\u001b[38;5;124mfield\u001b[39m\u001b[38;5;124m'\u001b[39m], field_dict)\n",
      "File \u001b[0;32m~/tools/GENE_sim_tools/GENE_sim_reader/src/dict_field_data.py:19\u001b[0m, in \u001b[0;36mfield_filepath_to_dict\u001b[0;34m(field_filepath, time_criteria, field_quantities)\u001b[0m\n\u001b[1;32m     17\u001b[0m \u001b[38;5;28;01mtry\u001b[39;00m:\n\u001b[1;32m     18\u001b[0m     file_checks(field_filepath, filetype\u001b[38;5;241m=\u001b[39m\u001b[38;5;124m'\u001b[39m\u001b[38;5;124mfield\u001b[39m\u001b[38;5;124m'\u001b[39m)\n\u001b[0;32m---> 19\u001b[0m     field_dict \u001b[38;5;241m=\u001b[39m create_field_dict(field_filepath, time_criteria, field_quantities)\n\u001b[1;32m     21\u001b[0m     \u001b[38;5;28;01mreturn\u001b[39;00m field_dict\n\u001b[1;32m     22\u001b[0m \u001b[38;5;28;01mexcept\u001b[39;00m FileError \u001b[38;5;28;01mas\u001b[39;00m e:\n",
      "File \u001b[0;32m~/tools/GENE_sim_tools/GENE_sim_reader/src/dict_field_data.py:94\u001b[0m, in \u001b[0;36mcreate_field_dict\u001b[0;34m(field_filepath, time_criteria, field_quantities)\u001b[0m\n\u001b[1;32m     92\u001b[0m all_time_values \u001b[38;5;241m=\u001b[39m []\n\u001b[1;32m     93\u001b[0m \u001b[38;5;28;01mfor\u001b[39;00m _ \u001b[38;5;129;01min\u001b[39;00m \u001b[38;5;28mrange\u001b[39m(\u001b[38;5;28mint\u001b[39m(getsize(field_filepath) \u001b[38;5;241m/\u001b[39m (leapfld \u001b[38;5;241m+\u001b[39m timeentry_size))):\n\u001b[0;32m---> 94\u001b[0m     time \u001b[38;5;241m=\u001b[39m \u001b[38;5;28mfloat\u001b[39m(timeentry\u001b[38;5;241m.\u001b[39munpack(file\u001b[38;5;241m.\u001b[39mread(timeentry_size))[\u001b[38;5;241m1\u001b[39m])\n\u001b[1;32m     95\u001b[0m     file\u001b[38;5;241m.\u001b[39mseek(leapfld, \u001b[38;5;241m1\u001b[39m)\n\u001b[1;32m     96\u001b[0m     all_time_values\u001b[38;5;241m.\u001b[39mappend(time)\n",
      "\u001b[0;31mKeyboardInterrupt\u001b[0m: "
     ]
    }
   ],
   "source": [
    "filepath = '/pscratch/sd/j/joeschm/NSXTU_discharges/X_TEST'\n",
    "\n",
    "sim_df = converged_last_time_sim_df(filepath)\n"
   ]
  },
  {
   "cell_type": "code",
   "execution_count": null,
   "metadata": {},
   "outputs": [],
   "source": [
    "sim_df['Division'] = sim_df['Q_ES1'] / sim_df['Q_EM1']\n"
   ]
  },
  {
   "cell_type": "code",
   "execution_count": null,
   "metadata": {},
   "outputs": [
    {
     "data": {
      "text/plain": [
       "0     [(-1.7770580867385824e+76-2.6063340289370508e+...\n",
       "1     [(-5.120098753510997e+61+5.137776117709059e+61...\n",
       "2     [(2.4754669803782293e+64+6.503407497153621e+64...\n",
       "3     [(7.974394426475169e+69+9.204410939964728e+69j...\n",
       "4     [(-6.452496709592572e+76+2.2303936222401588e+7...\n",
       "5     [(-1.7770580867385824e+76-2.6063340289370482e+...\n",
       "6     [(-5.153362362765279e+103-2.5569024999796765e+...\n",
       "7     [(4.535894447280613e+94-7.385929723004941e+94j...\n",
       "8     [(-2.345884824152697e+93-1.933906655042067e+93...\n",
       "9     [(1.640543246902899e+87-3.2075960016659672e+87...\n",
       "10    [(-1.5939200132453336e+21-9.822654122450489e+2...\n",
       "11    [(-1.097833517069718e+60+1.4763087689302767e+6...\n",
       "12    [(2.742372168915351e+73+6.149754148165046e+73j...\n",
       "13    [(-6.423534636421989e+74-1.5059036241183684e+7...\n",
       "14    [(-1.7770580867385824e+76-2.6063340289370482e+...\n",
       "15    [(4.8587876420689975e+76-1.901264724678278e+76...\n",
       "Name: field_apar, dtype: object"
      ]
     },
     "execution_count": 4,
     "metadata": {},
     "output_type": "execute_result"
    }
   ],
   "source": [
    "sim_df['field_apar']*1e100"
   ]
  },
  {
   "cell_type": "code",
   "execution_count": null,
   "metadata": {},
   "outputs": [],
   "source": [
    "# sim_df_to_csv(sim_df)"
   ]
  },
  {
   "cell_type": "code",
   "execution_count": null,
   "metadata": {},
   "outputs": [],
   "source": [
    "sim_df_loaded = load_csv_from_path('/pscratch/sd/j/joeschm/NSXTU_discharges/X_TEST')"
   ]
  },
  {
   "cell_type": "code",
   "execution_count": null,
   "metadata": {},
   "outputs": [
    {
     "data": {
      "text/plain": [
       "0       141.162689\n",
       "1      5288.944724\n",
       "2     40234.375000\n",
       "3     34650.128315\n",
       "4       141.160663\n",
       "5       141.162689\n",
       "6         6.278567\n",
       "7        12.635495\n",
       "8        24.786418\n",
       "9       133.339333\n",
       "10      408.389003\n",
       "11      161.378990\n",
       "12      172.893325\n",
       "13      141.042599\n",
       "14      141.162689\n",
       "15      182.719774\n",
       "Name: Division, dtype: float64"
      ]
     },
     "execution_count": 10,
     "metadata": {},
     "output_type": "execute_result"
    }
   ],
   "source": [
    "sim_df_loaded['Division']"
   ]
  },
  {
   "cell_type": "code",
   "execution_count": null,
   "metadata": {},
   "outputs": [],
   "source": []
  }
 ],
 "metadata": {
  "kernelspec": {
   "display_name": "jupyter_env",
   "language": "python",
   "name": "python3"
  },
  "language_info": {
   "codemirror_mode": {
    "name": "ipython",
    "version": 3
   },
   "file_extension": ".py",
   "mimetype": "text/x-python",
   "name": "python",
   "nbconvert_exporter": "python",
   "pygments_lexer": "ipython3",
   "version": "3.11.4"
  }
 },
 "nbformat": 4,
 "nbformat_minor": 2
}
