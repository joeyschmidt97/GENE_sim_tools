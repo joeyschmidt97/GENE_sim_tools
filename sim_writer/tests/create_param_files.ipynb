{
 "cells": [
  {
   "cell_type": "code",
   "execution_count": 1,
   "metadata": {},
   "outputs": [],
   "source": [
    "from GENE_sim_tools.sim_writer.src.modify_param_file import create_batch_param_files"
   ]
  },
  {
   "cell_type": "code",
   "execution_count": 2,
   "metadata": {},
   "outputs": [],
   "source": [
    "param_path = '/pscratch/sd/j/joeschm/NSXTU_discharges/132588/r_0.825_q5_MTM_mode/convergence_check/kymin_scan_nz0_256/scanfiles0002/parameters'"
   ]
  },
  {
   "cell_type": "code",
   "execution_count": 3,
   "metadata": {},
   "outputs": [
    {
     "name": "stdout",
     "output_type": "stream",
     "text": [
      "Created batch parameter files at /global/homes/j/joeschm/tools/GENE/XX_parameter_batch.\n"
     ]
    }
   ],
   "source": [
    "scan_type = 'scanlist'\n",
    "\n",
    "scan_dict = {\n",
    "    'nz0': {'values': [64,128,256,512], 'split_param': True},\n",
    "    'kymin': {'values': [0.05,0.1,0.2,0.3,0.5,0.7,0.9,1,2]},\n",
    "    'edgeopt': {'values': [4,8,12], 'split_param':True},\n",
    "    'hyp_z': {'values': [-8,-2,-1]}\n",
    "}\n",
    "\n",
    "diagdir = '/pscratch/sd/j/joeschm/NSXTU_discharges/132588/r_0.825_q5_MTM_mode/convergence_check/nz0_edgeopt_hypz_scans'\n",
    "create_batch_param_files(param_path, scan_dict, scan_type=scan_type, auto_name_diagdir_path=diagdir, debug=True)"
   ]
  },
  {
   "cell_type": "code",
   "execution_count": null,
   "metadata": {},
   "outputs": [],
   "source": []
  }
 ],
 "metadata": {
  "kernelspec": {
   "display_name": "jupyter_env",
   "language": "python",
   "name": "python3"
  },
  "language_info": {
   "codemirror_mode": {
    "name": "ipython",
    "version": 3
   },
   "file_extension": ".py",
   "mimetype": "text/x-python",
   "name": "python",
   "nbconvert_exporter": "python",
   "pygments_lexer": "ipython3",
   "version": "3.11.4"
  }
 },
 "nbformat": 4,
 "nbformat_minor": 2
}
