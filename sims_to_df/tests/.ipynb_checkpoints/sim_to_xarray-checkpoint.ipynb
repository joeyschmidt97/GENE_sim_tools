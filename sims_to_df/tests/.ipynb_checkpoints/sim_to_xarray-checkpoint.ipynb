{
 "cells": [
  {
   "cell_type": "code",
   "execution_count": null,
   "metadata": {},
   "outputs": [],
   "source": [
    "import os\n",
    "from GENE_sim_tools.GENE_sim_reader.src.sims_to_xarray import filepath_to_sim_xarray"
   ]
  },
  {
   "cell_type": "markdown",
   "metadata": {},
   "source": [
    "# Test paths"
   ]
  },
  {
   "cell_type": "code",
   "execution_count": null,
   "metadata": {},
   "outputs": [],
   "source": [
    "test_parent_dir = '/pscratch/sd/j/joeschm/NSXTU_discharges/X_TEST'\n",
    "\n",
    "test_scanfile_dirs = []\n",
    "for paths in os.listdir(test_parent_dir):\n",
    "    if paths.startswith('scanfiles'):\n",
    "        test_scanfile_dirs.append(os.path.join(test_parent_dir, paths))\n",
    "\n",
    "# print(test_scanfile_dirs)\n",
    "\n",
    "test_sim_dirs = []\n",
    "for paths in os.listdir(test_parent_dir):\n",
    "    if paths.startswith('TEST_3spec'):\n",
    "        test_sim_dirs.append(os.path.join(test_parent_dir, paths))\n",
    "\n",
    "# print(test_sim_dirs)\n",
    "\n",
    "test_param_paths = []\n",
    "for files in os.listdir(test_scanfile_dirs[0]):\n",
    "    if files.startswith('parameters_'):\n",
    "        test_param_paths.append(os.path.join(test_scanfile_dirs[0], files))\n",
    "\n",
    "for files in os.listdir(test_sim_dirs[0]):\n",
    "    if files.startswith('parameters'):\n",
    "        test_param_paths.append(os.path.join(test_sim_dirs[0], files))\n",
    "\n",
    "# print(test_param_paths)\n",
    "\n",
    "all_test_paths = [test_parent_dir] + test_scanfile_dirs + test_sim_dirs + test_param_paths"
   ]
  },
  {
   "cell_type": "markdown",
   "metadata": {},
   "source": [
    "# Functions tests"
   ]
  },
  {
   "cell_type": "code",
   "execution_count": null,
   "metadata": {},
   "outputs": [],
   "source": [
    "\n",
    "sim_df = filepath_to_sim_xarray(test_scanfile_dirs)\n",
    "# sim_df\n"
   ]
  },
  {
   "cell_type": "code",
   "execution_count": null,
   "metadata": {},
   "outputs": [],
   "source": [
    "import xarray as xr\n",
    "\n",
    "# Convert each column to an xarray DataArray and then combine into a Dataset\n",
    "data_arrays = {col: xr.DataArray(data=values) for col, values in sim_df.items()}\n",
    "xr_dataset = xr.Dataset(data_arrays)\n",
    "\n",
    "print(xr_dataset['time'])"
   ]
  },
  {
   "cell_type": "code",
   "execution_count": null,
   "metadata": {},
   "outputs": [],
   "source": [
    "xr_dataset"
   ]
  },
  {
   "cell_type": "code",
   "execution_count": null,
   "metadata": {},
   "outputs": [],
   "source": [
    "import matplotlib.pyplot as plt\n",
    "\n",
    "# Assuming xr_dataset contains your dataset\n",
    "xr_dataset.plot.scatter(x='kymin', y='gamma')\n",
    "plt.xlabel('kymin')\n",
    "plt.ylabel('gamma')\n",
    "plt.title('Scatter Plot of kymin vs gamma')\n",
    "plt.show()"
   ]
  },
  {
   "cell_type": "code",
   "execution_count": null,
   "metadata": {},
   "outputs": [],
   "source": [
    "# # 'Pi_EM3', 'time', 'field_phi', 'zgrid', 'field_apar', 'field_bpar']\n",
    "\n",
    "# das[0].keys()\n",
    "\n",
    "# for key, val in das[0].items():\n",
    "#     print(key, val)\n",
    "\n",
    "\n",
    "# # das[0]['Pi_EM1']\n"
   ]
  },
  {
   "cell_type": "code",
   "execution_count": null,
   "metadata": {},
   "outputs": [],
   "source": [
    "# for i in range(1,20):\n",
    "\n",
    "#     print(das[i]['gamma'])"
   ]
  },
  {
   "cell_type": "code",
   "execution_count": null,
   "metadata": {},
   "outputs": [],
   "source": []
  }
 ],
 "metadata": {
  "kernelspec": {
   "display_name": "NERSC Python",
   "language": "python",
   "name": "python3"
  },
  "language_info": {
   "codemirror_mode": {
    "name": "ipython",
    "version": 3
   },
   "file_extension": ".py",
   "mimetype": "text/x-python",
   "name": "python",
   "nbconvert_exporter": "python",
   "pygments_lexer": "ipython3",
   "version": "3.11.7"
  }
 },
 "nbformat": 4,
 "nbformat_minor": 4
}
