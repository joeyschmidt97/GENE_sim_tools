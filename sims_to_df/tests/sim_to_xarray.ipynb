{
 "cells": [
  {
   "cell_type": "code",
   "execution_count": 1,
   "metadata": {},
   "outputs": [],
   "source": [
    "import os\n",
    "from GENE_sim_tools.sims_to_df.src.sims_to_dataframe import filepath_to_sim_df\n",
    "from GENE_sim_tools.sims_to_df.src.GENE_data_extraction.field_data_analysis.append_field_analysis import complex_array_data_analysis"
   ]
  },
  {
   "cell_type": "markdown",
   "metadata": {},
   "source": [
    "# Test paths"
   ]
  },
  {
   "cell_type": "code",
   "execution_count": 2,
   "metadata": {},
   "outputs": [],
   "source": [
    "test_parent_dir = '/pscratch/sd/j/joeschm/NSXTU_discharges/X_TEST'\n",
    "\n",
    "test_scanfile_dirs = []\n",
    "for paths in os.listdir(test_parent_dir):\n",
    "    if paths.startswith('scanfiles'):\n",
    "        test_scanfile_dirs.append(os.path.join(test_parent_dir, paths))\n",
    "\n",
    "# print(test_scanfile_dirs)\n",
    "\n",
    "test_sim_dirs = []\n",
    "for paths in os.listdir(test_parent_dir):\n",
    "    if paths.startswith('TEST_3spec'):\n",
    "        test_sim_dirs.append(os.path.join(test_parent_dir, paths))\n",
    "\n",
    "# print(test_sim_dirs)\n",
    "\n",
    "test_param_paths = []\n",
    "for files in os.listdir(test_scanfile_dirs[0]):\n",
    "    if files.startswith('parameters_'):\n",
    "        test_param_paths.append(os.path.join(test_scanfile_dirs[0], files))\n",
    "\n",
    "for files in os.listdir(test_sim_dirs[0]):\n",
    "    if files.startswith('parameters'):\n",
    "        test_param_paths.append(os.path.join(test_sim_dirs[0], files))\n",
    "\n",
    "# print(test_param_paths)\n",
    "\n",
    "all_test_paths = [test_parent_dir] + test_scanfile_dirs + test_sim_dirs + test_param_paths"
   ]
  },
  {
   "cell_type": "markdown",
   "metadata": {},
   "source": [
    "# Functions tests"
   ]
  },
  {
   "cell_type": "code",
   "execution_count": 3,
   "metadata": {},
   "outputs": [
    {
     "ename": "ValueError",
     "evalue": "Incompatible indexer with Series",
     "output_type": "error",
     "traceback": [
      "\u001b[0;31m---------------------------------------------------------------------------\u001b[0m",
      "\u001b[0;31mValueError\u001b[0m                                Traceback (most recent call last)",
      "Cell \u001b[0;32mIn[3], line 3\u001b[0m\n\u001b[1;32m      1\u001b[0m sim_df \u001b[38;5;241m=\u001b[39m filepath_to_sim_df(all_test_paths)\n\u001b[0;32m----> 3\u001b[0m data_sim_df \u001b[38;5;241m=\u001b[39m complex_array_data_analysis(sim_df, \u001b[38;5;124m'\u001b[39m\u001b[38;5;124mphi\u001b[39m\u001b[38;5;124m'\u001b[39m)\n",
      "File \u001b[0;32m~/tools/GENE_sim_tools/sims_to_df/src/GENE_data_extraction/field_data_analysis/append_field_analysis.py:30\u001b[0m, in \u001b[0;36mcomplex_array_data_analysis\u001b[0;34m(input_sim_df, field_name)\u001b[0m\n\u001b[1;32m     25\u001b[0m         mean_angle, angle_lower_95, angle_upper_95 \u001b[38;5;241m=\u001b[39m histogram_stats(angle_bins, relative_frequency)\n\u001b[1;32m     29\u001b[0m         \u001b[38;5;66;03m# Assign the calculated data to the DataFrame\u001b[39;00m\n\u001b[0;32m---> 30\u001b[0m         sim_df\u001b[38;5;241m.\u001b[39mat[index, \u001b[38;5;124mf\u001b[39m\u001b[38;5;124m'\u001b[39m\u001b[38;5;132;01m{\u001b[39;00mfield_name\u001b[38;5;132;01m}\u001b[39;00m\u001b[38;5;124m_fft_info\u001b[39m\u001b[38;5;124m'\u001b[39m] \u001b[38;5;241m=\u001b[39m {\u001b[38;5;124m'\u001b[39m\u001b[38;5;124mfft_freq\u001b[39m\u001b[38;5;124m'\u001b[39m: freq_bins, \n\u001b[1;32m     31\u001b[0m                                                       \u001b[38;5;124m'\u001b[39m\u001b[38;5;124mrel_mag\u001b[39m\u001b[38;5;124m'\u001b[39m: relative_mag_counts,\n\u001b[1;32m     32\u001b[0m                                                       \u001b[38;5;124m'\u001b[39m\u001b[38;5;124mave_freq\u001b[39m\u001b[38;5;124m'\u001b[39m: mean_freq,\n\u001b[1;32m     33\u001b[0m                                                       \u001b[38;5;124m'\u001b[39m\u001b[38;5;124mlower_95_freq\u001b[39m\u001b[38;5;124m'\u001b[39m: freq_lower_95,\n\u001b[1;32m     34\u001b[0m                                                       \u001b[38;5;124m'\u001b[39m\u001b[38;5;124mupper_95_freq\u001b[39m\u001b[38;5;124m'\u001b[39m: freq_upper_95}\n\u001b[1;32m     36\u001b[0m         sim_df\u001b[38;5;241m.\u001b[39mat[index, \u001b[38;5;124mf\u001b[39m\u001b[38;5;124m'\u001b[39m\u001b[38;5;132;01m{\u001b[39;00mfield_name\u001b[38;5;132;01m}\u001b[39;00m\u001b[38;5;124m_angle_info\u001b[39m\u001b[38;5;124m'\u001b[39m] \u001b[38;5;241m=\u001b[39m {\u001b[38;5;124m'\u001b[39m\u001b[38;5;124mangles\u001b[39m\u001b[38;5;124m'\u001b[39m: angle_bins, \n\u001b[1;32m     37\u001b[0m                                                         \u001b[38;5;124m'\u001b[39m\u001b[38;5;124mrel_freq\u001b[39m\u001b[38;5;124m'\u001b[39m: relative_frequency,\n\u001b[1;32m     38\u001b[0m                                                         \u001b[38;5;124m'\u001b[39m\u001b[38;5;124mave_angle\u001b[39m\u001b[38;5;124m'\u001b[39m: mean_angle,\n\u001b[1;32m     39\u001b[0m                                                         \u001b[38;5;124m'\u001b[39m\u001b[38;5;124mlower_95_angle\u001b[39m\u001b[38;5;124m'\u001b[39m: angle_lower_95,\n\u001b[1;32m     40\u001b[0m                                                         \u001b[38;5;124m'\u001b[39m\u001b[38;5;124mupper_95_angle\u001b[39m\u001b[38;5;124m'\u001b[39m: angle_upper_95}\n\u001b[1;32m     42\u001b[0m \u001b[38;5;28;01mreturn\u001b[39;00m sim_df\n",
      "File \u001b[0;32m~/.conda/envs/jupyter_env/lib/python3.11/site-packages/pandas/core/indexing.py:2427\u001b[0m, in \u001b[0;36m_AtIndexer.__setitem__\u001b[0;34m(self, key, value)\u001b[0m\n\u001b[1;32m   2424\u001b[0m     \u001b[38;5;28;01mif\u001b[39;00m \u001b[38;5;129;01mnot\u001b[39;00m \u001b[38;5;28misinstance\u001b[39m(key, \u001b[38;5;28mtuple\u001b[39m) \u001b[38;5;129;01mor\u001b[39;00m \u001b[38;5;129;01mnot\u001b[39;00m \u001b[38;5;28mall\u001b[39m(is_scalar(x) \u001b[38;5;28;01mfor\u001b[39;00m x \u001b[38;5;129;01min\u001b[39;00m key):\n\u001b[1;32m   2425\u001b[0m         \u001b[38;5;28;01mraise\u001b[39;00m \u001b[38;5;167;01mValueError\u001b[39;00m(\u001b[38;5;124m\"\u001b[39m\u001b[38;5;124mInvalid call for scalar access (setting)!\u001b[39m\u001b[38;5;124m\"\u001b[39m)\n\u001b[0;32m-> 2427\u001b[0m     \u001b[38;5;28mself\u001b[39m\u001b[38;5;241m.\u001b[39mobj\u001b[38;5;241m.\u001b[39mloc[key] \u001b[38;5;241m=\u001b[39m value\n\u001b[1;32m   2428\u001b[0m     \u001b[38;5;28;01mreturn\u001b[39;00m\n\u001b[1;32m   2430\u001b[0m \u001b[38;5;28;01mreturn\u001b[39;00m \u001b[38;5;28msuper\u001b[39m()\u001b[38;5;241m.\u001b[39m\u001b[38;5;21m__setitem__\u001b[39m(key, value)\n",
      "File \u001b[0;32m~/.conda/envs/jupyter_env/lib/python3.11/site-packages/pandas/core/indexing.py:849\u001b[0m, in \u001b[0;36m_LocationIndexer.__setitem__\u001b[0;34m(self, key, value)\u001b[0m\n\u001b[1;32m    846\u001b[0m \u001b[38;5;28mself\u001b[39m\u001b[38;5;241m.\u001b[39m_has_valid_setitem_indexer(key)\n\u001b[1;32m    848\u001b[0m iloc \u001b[38;5;241m=\u001b[39m \u001b[38;5;28mself\u001b[39m \u001b[38;5;28;01mif\u001b[39;00m \u001b[38;5;28mself\u001b[39m\u001b[38;5;241m.\u001b[39mname \u001b[38;5;241m==\u001b[39m \u001b[38;5;124m\"\u001b[39m\u001b[38;5;124miloc\u001b[39m\u001b[38;5;124m\"\u001b[39m \u001b[38;5;28;01melse\u001b[39;00m \u001b[38;5;28mself\u001b[39m\u001b[38;5;241m.\u001b[39mobj\u001b[38;5;241m.\u001b[39miloc\n\u001b[0;32m--> 849\u001b[0m iloc\u001b[38;5;241m.\u001b[39m_setitem_with_indexer(indexer, value, \u001b[38;5;28mself\u001b[39m\u001b[38;5;241m.\u001b[39mname)\n",
      "File \u001b[0;32m~/.conda/envs/jupyter_env/lib/python3.11/site-packages/pandas/core/indexing.py:1835\u001b[0m, in \u001b[0;36m_iLocIndexer._setitem_with_indexer\u001b[0;34m(self, indexer, value, name)\u001b[0m\n\u001b[1;32m   1832\u001b[0m \u001b[38;5;66;03m# align and set the values\u001b[39;00m\n\u001b[1;32m   1833\u001b[0m \u001b[38;5;28;01mif\u001b[39;00m take_split_path:\n\u001b[1;32m   1834\u001b[0m     \u001b[38;5;66;03m# We have to operate column-wise\u001b[39;00m\n\u001b[0;32m-> 1835\u001b[0m     \u001b[38;5;28mself\u001b[39m\u001b[38;5;241m.\u001b[39m_setitem_with_indexer_split_path(indexer, value, name)\n\u001b[1;32m   1836\u001b[0m \u001b[38;5;28;01melse\u001b[39;00m:\n\u001b[1;32m   1837\u001b[0m     \u001b[38;5;28mself\u001b[39m\u001b[38;5;241m.\u001b[39m_setitem_single_block(indexer, value, name)\n",
      "File \u001b[0;32m~/.conda/envs/jupyter_env/lib/python3.11/site-packages/pandas/core/indexing.py:1856\u001b[0m, in \u001b[0;36m_iLocIndexer._setitem_with_indexer_split_path\u001b[0;34m(self, indexer, value, name)\u001b[0m\n\u001b[1;32m   1853\u001b[0m \u001b[38;5;28;01mif\u001b[39;00m (\u001b[38;5;28misinstance\u001b[39m(value, ABCSeries) \u001b[38;5;129;01mand\u001b[39;00m name \u001b[38;5;241m!=\u001b[39m \u001b[38;5;124m\"\u001b[39m\u001b[38;5;124miloc\u001b[39m\u001b[38;5;124m\"\u001b[39m) \u001b[38;5;129;01mor\u001b[39;00m \u001b[38;5;28misinstance\u001b[39m(value, \u001b[38;5;28mdict\u001b[39m):\n\u001b[1;32m   1854\u001b[0m     \u001b[38;5;28;01mfrom\u001b[39;00m \u001b[38;5;21;01mpandas\u001b[39;00m \u001b[38;5;28;01mimport\u001b[39;00m Series\n\u001b[0;32m-> 1856\u001b[0m     value \u001b[38;5;241m=\u001b[39m \u001b[38;5;28mself\u001b[39m\u001b[38;5;241m.\u001b[39m_align_series(indexer, Series(value))\n\u001b[1;32m   1858\u001b[0m \u001b[38;5;66;03m# Ensure we have something we can iterate over\u001b[39;00m\n\u001b[1;32m   1859\u001b[0m info_axis \u001b[38;5;241m=\u001b[39m indexer[\u001b[38;5;241m1\u001b[39m]\n",
      "File \u001b[0;32m~/.conda/envs/jupyter_env/lib/python3.11/site-packages/pandas/core/indexing.py:2299\u001b[0m, in \u001b[0;36m_iLocIndexer._align_series\u001b[0;34m(self, indexer, ser, multiindex_indexer)\u001b[0m\n\u001b[1;32m   2295\u001b[0m         \u001b[38;5;28;01mreturn\u001b[39;00m ser\u001b[38;5;241m.\u001b[39m_values\u001b[38;5;241m.\u001b[39mcopy()\n\u001b[1;32m   2297\u001b[0m     \u001b[38;5;28;01mreturn\u001b[39;00m ser\u001b[38;5;241m.\u001b[39mreindex(ax)\u001b[38;5;241m.\u001b[39m_values\n\u001b[0;32m-> 2299\u001b[0m \u001b[38;5;28;01mraise\u001b[39;00m \u001b[38;5;167;01mValueError\u001b[39;00m(\u001b[38;5;124m\"\u001b[39m\u001b[38;5;124mIncompatible indexer with Series\u001b[39m\u001b[38;5;124m\"\u001b[39m)\n",
      "\u001b[0;31mValueError\u001b[0m: Incompatible indexer with Series"
     ]
    }
   ],
   "source": [
    "sim_df = filepath_to_sim_df(all_test_paths)\n",
    "\n",
    "data_sim_df = complex_array_data_analysis(sim_df, 'phi')"
   ]
  },
  {
   "cell_type": "code",
   "execution_count": null,
   "metadata": {},
   "outputs": [
    {
     "data": {
      "text/plain": [
       "0     .dat\n",
       "1     .dat\n",
       "2     .dat\n",
       "3     .dat\n",
       "4     .dat\n",
       "5     .dat\n",
       "6     .dat\n",
       "7     0001\n",
       "8     0002\n",
       "9     0003\n",
       "10    0001\n",
       "11    0001\n",
       "12    0002\n",
       "13    0002\n",
       "14    0003\n",
       "15    0003\n",
       "16    0001\n",
       "17    0001\n",
       "18    0002\n",
       "19    0002\n",
       "20    0003\n",
       "21    0003\n",
       "22    0001\n",
       "23    0001\n",
       "24    0001\n",
       "25    0002\n",
       "26    0002\n",
       "27    0002\n",
       "28    0003\n",
       "29    0003\n",
       "30    0003\n",
       "31    0004\n",
       "32    0004\n",
       "33    0004\n",
       "34    0005\n",
       "35    0005\n",
       "36    0005\n",
       "37    0001\n",
       "38    0001\n",
       "39    0002\n",
       "40    0002\n",
       "41    0003\n",
       "42    0003\n",
       "43    0004\n",
       "44    0004\n",
       "45    0005\n",
       "46    0005\n",
       "47    0006\n",
       "48    0006\n",
       "Name: suffix, dtype: object"
      ]
     },
     "execution_count": 4,
     "metadata": {},
     "output_type": "execute_result"
    }
   ],
   "source": [
    "data_sim_df['suffix']"
   ]
  },
  {
   "cell_type": "code",
   "execution_count": null,
   "metadata": {},
   "outputs": [
    {
     "data": {
      "text/plain": [
       "0     /pscratch/sd/j/joeschm/NSXTU_discharges/X_TEST...\n",
       "1     /pscratch/sd/j/joeschm/NSXTU_discharges/X_TEST...\n",
       "2     /pscratch/sd/j/joeschm/NSXTU_discharges/X_TEST...\n",
       "3     /pscratch/sd/j/joeschm/NSXTU_discharges/X_TEST...\n",
       "4     /pscratch/sd/j/joeschm/NSXTU_discharges/X_TEST...\n",
       "5     /pscratch/sd/j/joeschm/NSXTU_discharges/X_TEST...\n",
       "6     /pscratch/sd/j/joeschm/NSXTU_discharges/X_TEST...\n",
       "7     /pscratch/sd/j/joeschm/NSXTU_discharges/X_TEST...\n",
       "8     /pscratch/sd/j/joeschm/NSXTU_discharges/X_TEST...\n",
       "9     /pscratch/sd/j/joeschm/NSXTU_discharges/X_TEST...\n",
       "10    /pscratch/sd/j/joeschm/NSXTU_discharges/X_TEST...\n",
       "11    /pscratch/sd/j/joeschm/NSXTU_discharges/X_TEST...\n",
       "12    /pscratch/sd/j/joeschm/NSXTU_discharges/X_TEST...\n",
       "13    /pscratch/sd/j/joeschm/NSXTU_discharges/X_TEST...\n",
       "14    /pscratch/sd/j/joeschm/NSXTU_discharges/X_TEST...\n",
       "15    /pscratch/sd/j/joeschm/NSXTU_discharges/X_TEST...\n",
       "16    /pscratch/sd/j/joeschm/NSXTU_discharges/X_TEST...\n",
       "17    /pscratch/sd/j/joeschm/NSXTU_discharges/X_TEST...\n",
       "18    /pscratch/sd/j/joeschm/NSXTU_discharges/X_TEST...\n",
       "19    /pscratch/sd/j/joeschm/NSXTU_discharges/X_TEST...\n",
       "20    /pscratch/sd/j/joeschm/NSXTU_discharges/X_TEST...\n",
       "21    /pscratch/sd/j/joeschm/NSXTU_discharges/X_TEST...\n",
       "22    /pscratch/sd/j/joeschm/NSXTU_discharges/X_TEST...\n",
       "23    /pscratch/sd/j/joeschm/NSXTU_discharges/X_TEST...\n",
       "24    /pscratch/sd/j/joeschm/NSXTU_discharges/X_TEST...\n",
       "25    /pscratch/sd/j/joeschm/NSXTU_discharges/X_TEST...\n",
       "26    /pscratch/sd/j/joeschm/NSXTU_discharges/X_TEST...\n",
       "27    /pscratch/sd/j/joeschm/NSXTU_discharges/X_TEST...\n",
       "28    /pscratch/sd/j/joeschm/NSXTU_discharges/X_TEST...\n",
       "29    /pscratch/sd/j/joeschm/NSXTU_discharges/X_TEST...\n",
       "30    /pscratch/sd/j/joeschm/NSXTU_discharges/X_TEST...\n",
       "31    /pscratch/sd/j/joeschm/NSXTU_discharges/X_TEST...\n",
       "32    /pscratch/sd/j/joeschm/NSXTU_discharges/X_TEST...\n",
       "33    /pscratch/sd/j/joeschm/NSXTU_discharges/X_TEST...\n",
       "34    /pscratch/sd/j/joeschm/NSXTU_discharges/X_TEST...\n",
       "35    /pscratch/sd/j/joeschm/NSXTU_discharges/X_TEST...\n",
       "36    /pscratch/sd/j/joeschm/NSXTU_discharges/X_TEST...\n",
       "37    /pscratch/sd/j/joeschm/NSXTU_discharges/X_TEST...\n",
       "38    /pscratch/sd/j/joeschm/NSXTU_discharges/X_TEST...\n",
       "39    /pscratch/sd/j/joeschm/NSXTU_discharges/X_TEST...\n",
       "40    /pscratch/sd/j/joeschm/NSXTU_discharges/X_TEST...\n",
       "41    /pscratch/sd/j/joeschm/NSXTU_discharges/X_TEST...\n",
       "42    /pscratch/sd/j/joeschm/NSXTU_discharges/X_TEST...\n",
       "43    /pscratch/sd/j/joeschm/NSXTU_discharges/X_TEST...\n",
       "44    /pscratch/sd/j/joeschm/NSXTU_discharges/X_TEST...\n",
       "45    /pscratch/sd/j/joeschm/NSXTU_discharges/X_TEST...\n",
       "46    /pscratch/sd/j/joeschm/NSXTU_discharges/X_TEST...\n",
       "47    /pscratch/sd/j/joeschm/NSXTU_discharges/X_TEST...\n",
       "48    /pscratch/sd/j/joeschm/NSXTU_discharges/X_TEST...\n",
       "Name: filepath, dtype: object"
      ]
     },
     "execution_count": 5,
     "metadata": {},
     "output_type": "execute_result"
    }
   ],
   "source": [
    "sim_xr['filepath']"
   ]
  },
  {
   "cell_type": "code",
   "execution_count": null,
   "metadata": {},
   "outputs": [],
   "source": []
  }
 ],
 "metadata": {
  "kernelspec": {
   "display_name": "NERSC Python",
   "language": "python",
   "name": "python3"
  },
  "language_info": {
   "codemirror_mode": {
    "name": "ipython",
    "version": 3
   },
   "file_extension": ".py",
   "mimetype": "text/x-python",
   "name": "python",
   "nbconvert_exporter": "python",
   "pygments_lexer": "ipython3",
   "version": "3.11.4"
  }
 },
 "nbformat": 4,
 "nbformat_minor": 4
}
