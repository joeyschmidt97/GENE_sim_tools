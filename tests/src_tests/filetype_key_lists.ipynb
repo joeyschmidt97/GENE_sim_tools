{
 "cells": [
  {
   "cell_type": "code",
   "execution_count": 1,
   "metadata": {},
   "outputs": [],
   "source": [
    "from GENE_sim_tools.src.filetype_key_lists import load_criteria_per_dict, time_quantities_from_criteria_list\n",
    "\n",
    "from GENE_sim_tools.src.criteria_code.criteria_parser import multi_criteria_to_list"
   ]
  },
  {
   "cell_type": "code",
   "execution_count": 2,
   "metadata": {},
   "outputs": [
    {
     "name": "stdout",
     "output_type": "stream",
     "text": [
      "[{'criteria': 'time<0.2', 'variable_name': 'time', 'units': None, 'bounds': [-inf, 0.2], 'logic_op_list': ['>', '<']}, {'criteria': 'Q_ES<4', 'variable_name': 'Q_ES', 'units': 'abc', 'bounds': [-inf, 4.0], 'logic_op_list': ['>', '<']}, {'criteria': '1<Q_EM<4', 'variable_name': 'Q_EM', 'units': None, 'bounds': [1.0, 4.0], 'logic_op_list': ['>', '<']}, {'criteria': 'apar', 'variable_name': 'apar', 'units': None, 'bounds': None, 'logic_op_list': None}, {'criteria': 'gamma<10', 'variable_name': 'gamma', 'units': None, 'bounds': [-inf, 10.0], 'logic_op_list': ['>', '<']}, {'criteria': 'suffix==0001', 'variable_name': 'suffix', 'units': None, 'bounds': '0001', 'logic_op_list': None}, {'criteria': 'nx0>131', 'variable_name': 'nx0', 'units': None, 'bounds': [131.0, inf], 'logic_op_list': ['>', '<']}, {'criteria': 'status', 'variable_name': 'status', 'units': None, 'bounds': None, 'logic_op_list': None}]\n"
     ]
    },
    {
     "ename": "TypeError",
     "evalue": "load_criteria_per_dict() missing 1 required positional argument: 'species_tuple'",
     "output_type": "error",
     "traceback": [
      "\u001b[0;31m---------------------------------------------------------------------------\u001b[0m",
      "\u001b[0;31mTypeError\u001b[0m                                 Traceback (most recent call last)",
      "Cell \u001b[0;32mIn[2], line 10\u001b[0m\n\u001b[1;32m      6\u001b[0m \u001b[38;5;28mprint\u001b[39m(criteria_dict_list)\n\u001b[1;32m      8\u001b[0m param_dict \u001b[38;5;241m=\u001b[39m {\u001b[38;5;124m'\u001b[39m\u001b[38;5;124mnx0\u001b[39m\u001b[38;5;124m'\u001b[39m: \u001b[38;5;241m24\u001b[39m, \u001b[38;5;124m'\u001b[39m\u001b[38;5;124msuffix\u001b[39m\u001b[38;5;124m'\u001b[39m: \u001b[38;5;124m'\u001b[39m\u001b[38;5;124m0001\u001b[39m\u001b[38;5;124m'\u001b[39m}\n\u001b[0;32m---> 10\u001b[0m dict_crit \u001b[38;5;241m=\u001b[39m load_criteria_per_dict(criteria_dict_list, param_dict)\n\u001b[1;32m     16\u001b[0m \u001b[38;5;28;01mfor\u001b[39;00m key \u001b[38;5;129;01min\u001b[39;00m dict_crit\u001b[38;5;241m.\u001b[39mkeys():\n\u001b[1;32m     17\u001b[0m     choose_time, qunatities \u001b[38;5;241m=\u001b[39m time_quantities_from_criteria_list(criteria_dict_list, param_dict, key)\n",
      "\u001b[0;31mTypeError\u001b[0m: load_criteria_per_dict() missing 1 required positional argument: 'species_tuple'"
     ]
    }
   ],
   "source": [
    "crit_list = ['time<0.2', 'Q_ES(abc)<4', '1<Q_EM< 4', 'apar', 'gamma<10', 'suffix==0001', 'nx0 > 131', 'status']\n",
    "# crit_list = ['0.1<=time<0.2']\n",
    "\n",
    "criteria_dict_list = multi_criteria_to_list(crit_list)\n",
    "\n",
    "print(criteria_dict_list)\n",
    "\n",
    "param_dict = {'nx0': 24, 'suffix': '0001'}\n",
    "\n",
    "dict_crit = load_criteria_per_dict(criteria_dict_list, param_dict)\n",
    "\n",
    "\n",
    "\n",
    "\n",
    "\n",
    "for key in dict_crit.keys():\n",
    "    choose_time, qunatities = time_quantities_from_criteria_list(criteria_dict_list, param_dict, key)\n",
    "    # choose_time = time_from_criteria_list(dict_crit['nrg'])\n",
    "    print(key, choose_time, qunatities)\n",
    "\n",
    "\n"
   ]
  },
  {
   "cell_type": "code",
   "execution_count": null,
   "metadata": {},
   "outputs": [],
   "source": []
  }
 ],
 "metadata": {
  "kernelspec": {
   "display_name": "jupyter_env",
   "language": "python",
   "name": "python3"
  },
  "language_info": {
   "codemirror_mode": {
    "name": "ipython",
    "version": 3
   },
   "file_extension": ".py",
   "mimetype": "text/x-python",
   "name": "python",
   "nbconvert_exporter": "python",
   "pygments_lexer": "ipython3",
   "version": "3.11.4"
  }
 },
 "nbformat": 4,
 "nbformat_minor": 2
}
